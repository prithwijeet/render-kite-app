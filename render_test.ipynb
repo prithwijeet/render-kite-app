{
 "cells": [
  {
   "cell_type": "code",
   "id": "initial_id",
   "metadata": {
    "collapsed": true,
    "ExecuteTime": {
     "end_time": "2025-08-06T07:41:42.525850Z",
     "start_time": "2025-08-06T07:41:42.523192Z"
    }
   },
   "source": [
    "import requests\n",
    "\n",
    "RENDER_BASE_URL = \"https://render-kite-app.onrender.com\"\n",
    "\n",
    "# Sample GET /callback request\n",
    "def test_get_callback():\n",
    "    params = {\n",
    "        \"event\": \"login_success\",\n",
    "        \"user_id\": \"AB1234\"\n",
    "    }\n",
    "    response = requests.get(f\"{RENDER_BASE_URL}/callback\", params=params)\n",
    "    print(\"GET /callback response:\", response.json())\n",
    "\n",
    "\n",
    "# Sample POST /callback request (form-data)\n",
    "def test_post_callback():\n",
    "    data = {\n",
    "        \"event\": \"order_placed\",\n",
    "        \"order_id\": \"XYZ5678\"\n",
    "    }\n",
    "    response = requests.post(f\"{RENDER_BASE_URL}/callback\", data=data)\n",
    "    print(\"POST /callback response:\", response.json())\n",
    "\n",
    "\n",
    "# Sample POST /postback request (JSON)\n",
    "def test_post_postback():\n",
    "    payload = {\n",
    "        \"event\": \"order_filled\",\n",
    "        \"order_id\": \"ORD123456\",\n",
    "        \"status\": \"complete\"\n",
    "    }\n",
    "    response = requests.post(f\"{RENDER_BASE_URL}/postback\", json=payload)\n",
    "    print(\"POST /postback response:\", response.status_code)\n",
    "    print(response.text)"
   ],
   "outputs": [],
   "execution_count": 21
  },
  {
   "metadata": {
    "ExecuteTime": {
     "end_time": "2025-08-06T07:41:43.577038Z",
     "start_time": "2025-08-06T07:41:42.530517Z"
    }
   },
   "cell_type": "code",
   "source": [
    "# test_get_callback()\n",
    "# test_post_callback()\n",
    "test_post_postback()"
   ],
   "id": "910bd9a783cf7bd5",
   "outputs": [
    {
     "name": "stdout",
     "output_type": "stream",
     "text": [
      "POST /postback response: 200\n",
      "{\"forwarded_to_local\":true,\"status\":\"received\"}\n",
      "\n"
     ]
    }
   ],
   "execution_count": 22
  }
 ],
 "metadata": {
  "kernelspec": {
   "display_name": "Python 3",
   "language": "python",
   "name": "python3"
  },
  "language_info": {
   "codemirror_mode": {
    "name": "ipython",
    "version": 2
   },
   "file_extension": ".py",
   "mimetype": "text/x-python",
   "name": "python",
   "nbconvert_exporter": "python",
   "pygments_lexer": "ipython2",
   "version": "2.7.6"
  }
 },
 "nbformat": 4,
 "nbformat_minor": 5
}
